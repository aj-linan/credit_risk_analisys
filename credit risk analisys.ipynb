{
 "cells": [
  {
   "cell_type": "markdown",
   "id": "bc67a9d8",
   "metadata": {},
   "source": [
    "### Valoración de riesgos de créditos\n",
    "\n",
    "Imaginemos que trabajamos en un banco. Cuando recibimos una solicitud de préstamo, tenemos que asegurarnos de que, si concedemos el dinero, el cliente podrá devolverlo. Cada solicitud conlleva un riesgo de impago, es decir, que no se devuelva el dinero.\n",
    "\n",
    "El objetivo de este análisis es puntuar al cliente y evaluar las posibilidades de impago. Si es demasiado alta, rechazamos la solicitud. Este proceso se llama \"credit risk scoring\".\n",
    "\n",
    "El aprendizaje automático puede utilizarse para calcular el riesgo. Para ello, necesitamos un conjunto de datos con préstamos, en el que, para cada solicitud, sepamos si se ha devuelto con éxito o no. Con estos datos, se puede construir un modelo para predecir la probabilidad de impago, y se puede utilizar este modelo para evaluar el riesgo de que los futuros prestatarios no devuelvan el dinero.\n",
    "\n",
    "El problema a resolver es un problema de clasificación binaria. La salida del algoritmo será positiva (\"1\") si el cliente incumple y negativa (\"0\") en caso contrario.\n",
    "\n",
    "Se va a utilizar un conjunto de datos de kaggle(https://www.kaggle.com/datasets/laotse/credit-risk-dataset). "
   ]
  },
  {
   "cell_type": "markdown",
   "id": "2b8203b5",
   "metadata": {},
   "source": [
    "#### Librerias\n",
    "Lo primero es cargar las librerias que se van a usar durante el proyecto y cargar el set de datos"
   ]
  },
  {
   "cell_type": "code",
   "execution_count": 30,
   "id": "ab4e7234",
   "metadata": {},
   "outputs": [],
   "source": [
    "import pandas as pd\n",
    "import numpy as np\n",
    "import seaborn as sns\n",
    "import pickle\n",
    "from matplotlib import pyplot as plt\n",
    "\n",
    "df = pd.read_csv('credit_risk_dataset.csv')"
   ]
  },
  {
   "cell_type": "markdown",
   "id": "c68f9f83",
   "metadata": {},
   "source": [
    "#### Análisis exploratorio de los datos\n",
    "Lo primero va a ser visualizar la estructura de los datos"
   ]
  },
  {
   "cell_type": "code",
   "execution_count": 2,
   "id": "5ddf2764",
   "metadata": {
    "scrolled": true
   },
   "outputs": [
    {
     "data": {
      "text/html": [
       "<div>\n",
       "<style scoped>\n",
       "    .dataframe tbody tr th:only-of-type {\n",
       "        vertical-align: middle;\n",
       "    }\n",
       "\n",
       "    .dataframe tbody tr th {\n",
       "        vertical-align: top;\n",
       "    }\n",
       "\n",
       "    .dataframe thead th {\n",
       "        text-align: right;\n",
       "    }\n",
       "</style>\n",
       "<table border=\"1\" class=\"dataframe\">\n",
       "  <thead>\n",
       "    <tr style=\"text-align: right;\">\n",
       "      <th></th>\n",
       "      <th>person_age</th>\n",
       "      <th>person_income</th>\n",
       "      <th>person_home_ownership</th>\n",
       "      <th>person_emp_length</th>\n",
       "      <th>loan_intent</th>\n",
       "      <th>loan_grade</th>\n",
       "      <th>loan_amnt</th>\n",
       "      <th>loan_int_rate</th>\n",
       "      <th>loan_status</th>\n",
       "      <th>loan_percent_income</th>\n",
       "      <th>cb_person_default_on_file</th>\n",
       "      <th>cb_person_cred_hist_length</th>\n",
       "    </tr>\n",
       "  </thead>\n",
       "  <tbody>\n",
       "    <tr>\n",
       "      <th>0</th>\n",
       "      <td>22</td>\n",
       "      <td>59000</td>\n",
       "      <td>RENT</td>\n",
       "      <td>123.0</td>\n",
       "      <td>PERSONAL</td>\n",
       "      <td>D</td>\n",
       "      <td>35000</td>\n",
       "      <td>16.02</td>\n",
       "      <td>1</td>\n",
       "      <td>0.59</td>\n",
       "      <td>Y</td>\n",
       "      <td>3</td>\n",
       "    </tr>\n",
       "    <tr>\n",
       "      <th>1</th>\n",
       "      <td>21</td>\n",
       "      <td>9600</td>\n",
       "      <td>OWN</td>\n",
       "      <td>5.0</td>\n",
       "      <td>EDUCATION</td>\n",
       "      <td>B</td>\n",
       "      <td>1000</td>\n",
       "      <td>11.14</td>\n",
       "      <td>0</td>\n",
       "      <td>0.10</td>\n",
       "      <td>N</td>\n",
       "      <td>2</td>\n",
       "    </tr>\n",
       "    <tr>\n",
       "      <th>2</th>\n",
       "      <td>25</td>\n",
       "      <td>9600</td>\n",
       "      <td>MORTGAGE</td>\n",
       "      <td>1.0</td>\n",
       "      <td>MEDICAL</td>\n",
       "      <td>C</td>\n",
       "      <td>5500</td>\n",
       "      <td>12.87</td>\n",
       "      <td>1</td>\n",
       "      <td>0.57</td>\n",
       "      <td>N</td>\n",
       "      <td>3</td>\n",
       "    </tr>\n",
       "    <tr>\n",
       "      <th>3</th>\n",
       "      <td>23</td>\n",
       "      <td>65500</td>\n",
       "      <td>RENT</td>\n",
       "      <td>4.0</td>\n",
       "      <td>MEDICAL</td>\n",
       "      <td>C</td>\n",
       "      <td>35000</td>\n",
       "      <td>15.23</td>\n",
       "      <td>1</td>\n",
       "      <td>0.53</td>\n",
       "      <td>N</td>\n",
       "      <td>2</td>\n",
       "    </tr>\n",
       "    <tr>\n",
       "      <th>4</th>\n",
       "      <td>24</td>\n",
       "      <td>54400</td>\n",
       "      <td>RENT</td>\n",
       "      <td>8.0</td>\n",
       "      <td>MEDICAL</td>\n",
       "      <td>C</td>\n",
       "      <td>35000</td>\n",
       "      <td>14.27</td>\n",
       "      <td>1</td>\n",
       "      <td>0.55</td>\n",
       "      <td>Y</td>\n",
       "      <td>4</td>\n",
       "    </tr>\n",
       "  </tbody>\n",
       "</table>\n",
       "</div>"
      ],
      "text/plain": [
       "   person_age  person_income person_home_ownership  person_emp_length  \\\n",
       "0          22          59000                  RENT              123.0   \n",
       "1          21           9600                   OWN                5.0   \n",
       "2          25           9600              MORTGAGE                1.0   \n",
       "3          23          65500                  RENT                4.0   \n",
       "4          24          54400                  RENT                8.0   \n",
       "\n",
       "  loan_intent loan_grade  loan_amnt  loan_int_rate  loan_status  \\\n",
       "0    PERSONAL          D      35000          16.02            1   \n",
       "1   EDUCATION          B       1000          11.14            0   \n",
       "2     MEDICAL          C       5500          12.87            1   \n",
       "3     MEDICAL          C      35000          15.23            1   \n",
       "4     MEDICAL          C      35000          14.27            1   \n",
       "\n",
       "   loan_percent_income cb_person_default_on_file  cb_person_cred_hist_length  \n",
       "0                 0.59                         Y                           3  \n",
       "1                 0.10                         N                           2  \n",
       "2                 0.57                         N                           3  \n",
       "3                 0.53                         N                           2  \n",
       "4                 0.55                         Y                           4  "
      ]
     },
     "execution_count": 2,
     "metadata": {},
     "output_type": "execute_result"
    }
   ],
   "source": [
    "df.head()"
   ]
  },
  {
   "cell_type": "code",
   "execution_count": 3,
   "id": "e572b0b2",
   "metadata": {},
   "outputs": [
    {
     "data": {
      "text/plain": [
       "Index(['person_age', 'person_income', 'person_home_ownership',\n",
       "       'person_emp_length', 'loan_intent', 'loan_grade', 'loan_amnt',\n",
       "       'loan_int_rate', 'loan_status', 'loan_percent_income',\n",
       "       'cb_person_default_on_file', 'cb_person_cred_hist_length'],\n",
       "      dtype='object')"
      ]
     },
     "execution_count": 3,
     "metadata": {},
     "output_type": "execute_result"
    }
   ],
   "source": [
    "df.columns"
   ]
  },
  {
   "cell_type": "markdown",
   "id": "9789bbaf",
   "metadata": {},
   "source": [
    "Se puede ver que el conjunto de datos está compuesto por las siguientes columnas:\n",
    "* person_age: edad del cliente\n",
    "* person_income: sueldo anual del cliente\n",
    "* personhomeownership: tipo de propiedad de la vivienda\n",
    "* personemplength: experiencia laboral en años\n",
    "* loan_intent: Objetivo del préstamo\n",
    "* loan_grade: Grado del préstamo\n",
    "* loan_amnt: Cantidad del préstamo\n",
    "* loanintrate: Tipo de interés\n",
    "* loan_status: Estado del préstamo (0 es no impago 1 es impago) - **Variable Objetivo**\n",
    "* loanpercentincome: Porcentaje de ingresos\n",
    "* cbpersondefaultonfile: Historial de impagos\n",
    "* cbpresoncredhistlength: Duración del historial de crédito\n",
    "\n",
    "Cada una de estas variables se analizarán más a fondo a continuación."
   ]
  },
  {
   "cell_type": "code",
   "execution_count": 4,
   "id": "bddf830d",
   "metadata": {},
   "outputs": [
    {
     "data": {
      "text/html": [
       "<div>\n",
       "<style scoped>\n",
       "    .dataframe tbody tr th:only-of-type {\n",
       "        vertical-align: middle;\n",
       "    }\n",
       "\n",
       "    .dataframe tbody tr th {\n",
       "        vertical-align: top;\n",
       "    }\n",
       "\n",
       "    .dataframe thead th {\n",
       "        text-align: right;\n",
       "    }\n",
       "</style>\n",
       "<table border=\"1\" class=\"dataframe\">\n",
       "  <thead>\n",
       "    <tr style=\"text-align: right;\">\n",
       "      <th></th>\n",
       "      <th>age</th>\n",
       "      <th>income</th>\n",
       "      <th>home</th>\n",
       "      <th>job</th>\n",
       "      <th>loan_intent</th>\n",
       "      <th>loan_grade</th>\n",
       "      <th>loan_amnt</th>\n",
       "      <th>int_rate</th>\n",
       "      <th>status</th>\n",
       "      <th>perc_income</th>\n",
       "      <th>defaults</th>\n",
       "      <th>cred_hist</th>\n",
       "    </tr>\n",
       "  </thead>\n",
       "  <tbody>\n",
       "    <tr>\n",
       "      <th>0</th>\n",
       "      <td>22</td>\n",
       "      <td>59000</td>\n",
       "      <td>RENT</td>\n",
       "      <td>123.0</td>\n",
       "      <td>PERSONAL</td>\n",
       "      <td>D</td>\n",
       "      <td>35000</td>\n",
       "      <td>16.02</td>\n",
       "      <td>1</td>\n",
       "      <td>0.59</td>\n",
       "      <td>Y</td>\n",
       "      <td>3</td>\n",
       "    </tr>\n",
       "    <tr>\n",
       "      <th>1</th>\n",
       "      <td>21</td>\n",
       "      <td>9600</td>\n",
       "      <td>OWN</td>\n",
       "      <td>5.0</td>\n",
       "      <td>EDUCATION</td>\n",
       "      <td>B</td>\n",
       "      <td>1000</td>\n",
       "      <td>11.14</td>\n",
       "      <td>0</td>\n",
       "      <td>0.10</td>\n",
       "      <td>N</td>\n",
       "      <td>2</td>\n",
       "    </tr>\n",
       "    <tr>\n",
       "      <th>2</th>\n",
       "      <td>25</td>\n",
       "      <td>9600</td>\n",
       "      <td>MORTGAGE</td>\n",
       "      <td>1.0</td>\n",
       "      <td>MEDICAL</td>\n",
       "      <td>C</td>\n",
       "      <td>5500</td>\n",
       "      <td>12.87</td>\n",
       "      <td>1</td>\n",
       "      <td>0.57</td>\n",
       "      <td>N</td>\n",
       "      <td>3</td>\n",
       "    </tr>\n",
       "    <tr>\n",
       "      <th>3</th>\n",
       "      <td>23</td>\n",
       "      <td>65500</td>\n",
       "      <td>RENT</td>\n",
       "      <td>4.0</td>\n",
       "      <td>MEDICAL</td>\n",
       "      <td>C</td>\n",
       "      <td>35000</td>\n",
       "      <td>15.23</td>\n",
       "      <td>1</td>\n",
       "      <td>0.53</td>\n",
       "      <td>N</td>\n",
       "      <td>2</td>\n",
       "    </tr>\n",
       "    <tr>\n",
       "      <th>4</th>\n",
       "      <td>24</td>\n",
       "      <td>54400</td>\n",
       "      <td>RENT</td>\n",
       "      <td>8.0</td>\n",
       "      <td>MEDICAL</td>\n",
       "      <td>C</td>\n",
       "      <td>35000</td>\n",
       "      <td>14.27</td>\n",
       "      <td>1</td>\n",
       "      <td>0.55</td>\n",
       "      <td>Y</td>\n",
       "      <td>4</td>\n",
       "    </tr>\n",
       "  </tbody>\n",
       "</table>\n",
       "</div>"
      ],
      "text/plain": [
       "   age  income      home    job loan_intent loan_grade  loan_amnt  int_rate  \\\n",
       "0   22   59000      RENT  123.0    PERSONAL          D      35000     16.02   \n",
       "1   21    9600       OWN    5.0   EDUCATION          B       1000     11.14   \n",
       "2   25    9600  MORTGAGE    1.0     MEDICAL          C       5500     12.87   \n",
       "3   23   65500      RENT    4.0     MEDICAL          C      35000     15.23   \n",
       "4   24   54400      RENT    8.0     MEDICAL          C      35000     14.27   \n",
       "\n",
       "   status  perc_income defaults  cred_hist  \n",
       "0       1         0.59        Y          3  \n",
       "1       0         0.10        N          2  \n",
       "2       1         0.57        N          3  \n",
       "3       1         0.53        N          2  \n",
       "4       1         0.55        Y          4  "
      ]
     },
     "execution_count": 4,
     "metadata": {},
     "output_type": "execute_result"
    }
   ],
   "source": [
    "# Lo primero que se va a hacer es renombrar algunas variables para facilitar la visualizacion y la comprension\n",
    "df.columns = ['age', 'income', 'home','job', 'loan_intent', 'loan_grade', 'loan_amnt',\n",
    "       'int_rate', 'status', 'perc_income','defaults', 'cred_hist']\n",
    "df.head()"
   ]
  },
  {
   "cell_type": "code",
   "execution_count": 5,
   "id": "887c483c",
   "metadata": {},
   "outputs": [
    {
     "name": "stdout",
     "output_type": "stream",
     "text": [
      "<class 'pandas.core.frame.DataFrame'>\n",
      "RangeIndex: 32581 entries, 0 to 32580\n",
      "Data columns (total 12 columns):\n",
      " #   Column       Non-Null Count  Dtype  \n",
      "---  ------       --------------  -----  \n",
      " 0   age          32581 non-null  int64  \n",
      " 1   income       32581 non-null  int64  \n",
      " 2   home         32581 non-null  object \n",
      " 3   job          31686 non-null  float64\n",
      " 4   loan_intent  32581 non-null  object \n",
      " 5   loan_grade   32581 non-null  object \n",
      " 6   loan_amnt    32581 non-null  int64  \n",
      " 7   int_rate     29465 non-null  float64\n",
      " 8   status       32581 non-null  int64  \n",
      " 9   perc_income  32581 non-null  float64\n",
      " 10  defaults     32581 non-null  object \n",
      " 11  cred_hist    32581 non-null  int64  \n",
      "dtypes: float64(3), int64(5), object(4)\n",
      "memory usage: 3.0+ MB\n"
     ]
    }
   ],
   "source": [
    "df.info()"
   ]
  },
  {
   "cell_type": "code",
   "execution_count": 6,
   "id": "4e507ad4",
   "metadata": {},
   "outputs": [
    {
     "name": "stdout",
     "output_type": "stream",
     "text": [
      "165\n"
     ]
    }
   ],
   "source": [
    "# Se van a eliminar los posibles duplicados\n",
    "print(df.duplicated().sum())\n",
    "df = df.drop_duplicates(keep=\"first\")"
   ]
  },
  {
   "cell_type": "code",
   "execution_count": 7,
   "id": "8c0f6dcd",
   "metadata": {},
   "outputs": [
    {
     "name": "stdout",
     "output_type": "stream",
     "text": [
      "age               0\n",
      "income            0\n",
      "home              0\n",
      "job             887\n",
      "loan_intent       0\n",
      "loan_grade        0\n",
      "loan_amnt         0\n",
      "int_rate       3095\n",
      "status            0\n",
      "perc_income       0\n",
      "defaults          0\n",
      "cred_hist         0\n",
      "dtype: int64\n",
      "(32416, 12)\n",
      "(28501, 12)\n"
     ]
    }
   ],
   "source": [
    "# Se van a visualizar los posibles valores perdidos\n",
    "print(df.isna().sum())\n",
    "\n",
    "# Dado el gran numero de entradas que se tienen, se van a eliminar los registros que tienen valores perdidos\n",
    "print(df.shape)\n",
    "df = df.dropna()\n",
    "print(df.shape)"
   ]
  },
  {
   "cell_type": "code",
   "execution_count": 8,
   "id": "306fb7a7",
   "metadata": {},
   "outputs": [
    {
     "data": {
      "text/html": [
       "<div>\n",
       "<style scoped>\n",
       "    .dataframe tbody tr th:only-of-type {\n",
       "        vertical-align: middle;\n",
       "    }\n",
       "\n",
       "    .dataframe tbody tr th {\n",
       "        vertical-align: top;\n",
       "    }\n",
       "\n",
       "    .dataframe thead th {\n",
       "        text-align: right;\n",
       "    }\n",
       "</style>\n",
       "<table border=\"1\" class=\"dataframe\">\n",
       "  <thead>\n",
       "    <tr style=\"text-align: right;\">\n",
       "      <th></th>\n",
       "      <th>age</th>\n",
       "      <th>income</th>\n",
       "      <th>job</th>\n",
       "      <th>loan_amnt</th>\n",
       "      <th>int_rate</th>\n",
       "      <th>status</th>\n",
       "      <th>perc_income</th>\n",
       "      <th>cred_hist</th>\n",
       "    </tr>\n",
       "  </thead>\n",
       "  <tbody>\n",
       "    <tr>\n",
       "      <th>count</th>\n",
       "      <td>28501.000000</td>\n",
       "      <td>2.850100e+04</td>\n",
       "      <td>28501.000000</td>\n",
       "      <td>28501.000000</td>\n",
       "      <td>28501.000000</td>\n",
       "      <td>28501.000000</td>\n",
       "      <td>28501.000000</td>\n",
       "      <td>28501.000000</td>\n",
       "    </tr>\n",
       "    <tr>\n",
       "      <th>mean</th>\n",
       "      <td>27.738676</td>\n",
       "      <td>6.665441e+04</td>\n",
       "      <td>4.790148</td>\n",
       "      <td>9658.533034</td>\n",
       "      <td>11.045385</td>\n",
       "      <td>0.217115</td>\n",
       "      <td>0.169517</td>\n",
       "      <td>5.800498</td>\n",
       "    </tr>\n",
       "    <tr>\n",
       "      <th>std</th>\n",
       "      <td>6.316166</td>\n",
       "      <td>6.237603e+04</td>\n",
       "      <td>4.157462</td>\n",
       "      <td>6329.604672</td>\n",
       "      <td>3.230748</td>\n",
       "      <td>0.412289</td>\n",
       "      <td>0.106410</td>\n",
       "      <td>4.042153</td>\n",
       "    </tr>\n",
       "    <tr>\n",
       "      <th>min</th>\n",
       "      <td>20.000000</td>\n",
       "      <td>4.000000e+03</td>\n",
       "      <td>0.000000</td>\n",
       "      <td>500.000000</td>\n",
       "      <td>5.420000</td>\n",
       "      <td>0.000000</td>\n",
       "      <td>0.000000</td>\n",
       "      <td>2.000000</td>\n",
       "    </tr>\n",
       "    <tr>\n",
       "      <th>25%</th>\n",
       "      <td>23.000000</td>\n",
       "      <td>3.950000e+04</td>\n",
       "      <td>2.000000</td>\n",
       "      <td>5000.000000</td>\n",
       "      <td>7.900000</td>\n",
       "      <td>0.000000</td>\n",
       "      <td>0.090000</td>\n",
       "      <td>3.000000</td>\n",
       "    </tr>\n",
       "    <tr>\n",
       "      <th>50%</th>\n",
       "      <td>26.000000</td>\n",
       "      <td>5.600000e+04</td>\n",
       "      <td>4.000000</td>\n",
       "      <td>8000.000000</td>\n",
       "      <td>10.990000</td>\n",
       "      <td>0.000000</td>\n",
       "      <td>0.150000</td>\n",
       "      <td>4.000000</td>\n",
       "    </tr>\n",
       "    <tr>\n",
       "      <th>75%</th>\n",
       "      <td>30.000000</td>\n",
       "      <td>8.000000e+04</td>\n",
       "      <td>7.000000</td>\n",
       "      <td>12500.000000</td>\n",
       "      <td>13.480000</td>\n",
       "      <td>0.000000</td>\n",
       "      <td>0.230000</td>\n",
       "      <td>8.000000</td>\n",
       "    </tr>\n",
       "    <tr>\n",
       "      <th>max</th>\n",
       "      <td>144.000000</td>\n",
       "      <td>6.000000e+06</td>\n",
       "      <td>123.000000</td>\n",
       "      <td>35000.000000</td>\n",
       "      <td>23.220000</td>\n",
       "      <td>1.000000</td>\n",
       "      <td>0.830000</td>\n",
       "      <td>30.000000</td>\n",
       "    </tr>\n",
       "  </tbody>\n",
       "</table>\n",
       "</div>"
      ],
      "text/plain": [
       "                age        income           job     loan_amnt      int_rate  \\\n",
       "count  28501.000000  2.850100e+04  28501.000000  28501.000000  28501.000000   \n",
       "mean      27.738676  6.665441e+04      4.790148   9658.533034     11.045385   \n",
       "std        6.316166  6.237603e+04      4.157462   6329.604672      3.230748   \n",
       "min       20.000000  4.000000e+03      0.000000    500.000000      5.420000   \n",
       "25%       23.000000  3.950000e+04      2.000000   5000.000000      7.900000   \n",
       "50%       26.000000  5.600000e+04      4.000000   8000.000000     10.990000   \n",
       "75%       30.000000  8.000000e+04      7.000000  12500.000000     13.480000   \n",
       "max      144.000000  6.000000e+06    123.000000  35000.000000     23.220000   \n",
       "\n",
       "             status   perc_income     cred_hist  \n",
       "count  28501.000000  28501.000000  28501.000000  \n",
       "mean       0.217115      0.169517      5.800498  \n",
       "std        0.412289      0.106410      4.042153  \n",
       "min        0.000000      0.000000      2.000000  \n",
       "25%        0.000000      0.090000      3.000000  \n",
       "50%        0.000000      0.150000      4.000000  \n",
       "75%        0.000000      0.230000      8.000000  \n",
       "max        1.000000      0.830000     30.000000  "
      ]
     },
     "execution_count": 8,
     "metadata": {},
     "output_type": "execute_result"
    }
   ],
   "source": [
    "# A continuación se va a mostrar como se distribuyen los atributos.\n",
    "# Se va a empezar con los atributos numéricos\n",
    "df.describe()\n",
    "# Se van a observar mas detenidamente los que tienen valores muy exagerados(outliers) como age y job"
   ]
  },
  {
   "cell_type": "code",
   "execution_count": 9,
   "id": "a77a0a07",
   "metadata": {},
   "outputs": [
    {
     "data": {
      "image/png": "[encoded data removed]",
      "text/plain": [
       "<Figure size 576x288 with 1 Axes>"
      ]
     },
     "metadata": {
      "needs_background": "light"
     },
     "output_type": "display_data"
    },
    {
     "data": {
      "text/plain": [
       "Text(0.5, 1.0, 'Age box plot')"
      ]
     },
     "execution_count": 9,
     "metadata": {},
     "output_type": "execute_result"
    },
    {
     "data": {
      "image/png": "[encoded data removed]",
      "text/plain": [
       "<Figure size 288x576 with 1 Axes>"
      ]
     },
     "metadata": {
      "needs_background": "light"
     },
     "output_type": "display_data"
    }
   ],
   "source": [
    "# Atributo \"age\" o edad en espanol\n",
    "plt.figure(figsize=(8,4))\n",
    "df[\"age\"].hist(bins = 16)\n",
    "\n",
    "plt.title('Age Histogram', fontsize = 15)\n",
    "plt.xlabel(\"Age\", fontsize=15)\n",
    "plt.show()\n",
    "\n",
    "plt.figure(figsize=(4,8))\n",
    "ax = sns.boxplot(y=df[\"age\"])\n",
    "ax.set_ylabel(\"Age\", fontsize = 12)\n",
    "ax.set_title('Age box plot', fontsize=15)"
   ]
  },
  {
   "cell_type": "code",
   "execution_count": 10,
   "id": "002e88be",
   "metadata": {},
   "outputs": [],
   "source": [
    "# Se puede observar que la gran mayoria de valores se encuentran entre 20 y 40 anos\n",
    "# Se va a prodeceder y eliminar los outliers de personas mayores de 90 anos\n",
    "df = df[df[\"age\"]<90]"
   ]
  },
  {
   "cell_type": "code",
   "execution_count": 11,
   "id": "45c0f6b4",
   "metadata": {},
   "outputs": [
    {
     "data": {
      "text/plain": [
       "Text(0.5, 1.0, 'Job box plot')"
      ]
     },
     "execution_count": 11,
     "metadata": {},
     "output_type": "execute_result"
    },
    {
     "data": {
      "image/png": "[encoded data removed]",
      "text/plain": [
       "<Figure size 288x576 with 1 Axes>"
      ]
     },
     "metadata": {
      "needs_background": "light"
     },
     "output_type": "display_data"
    }
   ],
   "source": [
    "# Atributo \"job\" o anos trabajados en espanol\n",
    "plt.figure(figsize=(4,8))\n",
    "ax = sns.boxplot(y=df[\"job\"])\n",
    "ax.set_ylabel(\"Job\", fontsize = 12)\n",
    "ax.set_title('Job box plot', fontsize=15)"
   ]
  },
  {
   "cell_type": "code",
   "execution_count": 12,
   "id": "e45439f3",
   "metadata": {},
   "outputs": [],
   "source": [
    "# Se va a prodeceder y eliminar los outliers de personas que han trabajado mas de 70 anos\n",
    "df = df[df[\"job\"]<70]"
   ]
  },
  {
   "cell_type": "code",
   "execution_count": 13,
   "id": "6fe262be",
   "metadata": {},
   "outputs": [
    {
     "name": "stdout",
     "output_type": "stream",
     "text": [
      "RENT        14495\n",
      "MORTGAGE    11733\n",
      "OWN          2174\n",
      "OTHER          93\n",
      "Name: home, dtype: int64\n",
      "A    9344\n",
      "B    9092\n",
      "C    5680\n",
      "D    3242\n",
      "E     869\n",
      "F     209\n",
      "G      59\n",
      "Name: loan_grade, dtype: int64\n",
      "EDUCATION            5668\n",
      "MEDICAL              5269\n",
      "VENTURE              4967\n",
      "PERSONAL             4857\n",
      "DEBTCONSOLIDATION    4547\n",
      "HOMEIMPROVEMENT      3187\n",
      "Name: loan_intent, dtype: int64\n",
      "N    23406\n",
      "Y     5089\n",
      "Name: defaults, dtype: int64\n",
      "0    22308\n",
      "1     6187\n",
      "Name: status, dtype: int64\n"
     ]
    }
   ],
   "source": [
    "# Ahora se van a analizar las variables de tipo categorico\n",
    "print(df[\"home\"].value_counts())\n",
    "print(df[\"loan_grade\"].value_counts())\n",
    "print(df[\"loan_intent\"].value_counts())\n",
    "print(df[\"defaults\"].value_counts())\n",
    "\n",
    "\n",
    "\n",
    "# Se va a ver como de balanceado esta el data set tambien\n",
    "print(df[\"status\"].value_counts())\n",
    "# Se puede observar que se tienen muchos mas casos pagados 22308 que no pagados 6187\n",
    "# Por lo tanto el data set esta un poco desbalanceado\n"
   ]
  },
  {
   "cell_type": "code",
   "execution_count": 14,
   "id": "008c84da",
   "metadata": {},
   "outputs": [
    {
     "name": "stdout",
     "output_type": "stream",
     "text": [
      "                  age    income       job  loan_amnt  int_rate    status  \\\n",
      "age          1.000000  0.141449  0.175922   0.056144  0.009504 -0.023267   \n",
      "income       0.141449  1.000000  0.160593   0.323961 -0.003729 -0.167803   \n",
      "job          0.175922  0.160593  1.000000   0.108559 -0.058474 -0.086718   \n",
      "loan_amnt    0.056144  0.323961  0.108559   1.000000  0.146017  0.113965   \n",
      "int_rate     0.009504 -0.003729 -0.058474   0.146017  1.000000  0.339952   \n",
      "status      -0.023267 -0.167803 -0.086718   0.113965  0.339952  1.000000   \n",
      "perc_income -0.039179 -0.297865 -0.059980   0.577505  0.123343  0.379845   \n",
      "cred_hist    0.877716  0.122296  0.151748   0.045622  0.014520 -0.016485   \n",
      "\n",
      "             perc_income  cred_hist  \n",
      "age            -0.039179   0.877716  \n",
      "income         -0.297865   0.122296  \n",
      "job            -0.059980   0.151748  \n",
      "loan_amnt       0.577505   0.045622  \n",
      "int_rate        0.123343   0.014520  \n",
      "status          0.379845  -0.016485  \n",
      "perc_income     1.000000  -0.029422  \n",
      "cred_hist      -0.029422   1.000000  \n"
     ]
    },
    {
     "data": {
      "text/plain": [
       "<AxesSubplot:>"
      ]
     },
     "execution_count": 14,
     "metadata": {},
     "output_type": "execute_result"
    },
    {
     "data": {
      "image/png": "[encoded data removed]",
      "text/plain": [
       "<Figure size 792x648 with 2 Axes>"
      ]
     },
     "metadata": {
      "needs_background": "light"
     },
     "output_type": "display_data"
    }
   ],
   "source": [
    "# Para ver la relacion entre variables numericas se va a calcular la matriz de correlaciones\n",
    "print(df.corr())\n",
    "# Mascara para el triangulo superior\n",
    "mask = np.triu(np.ones_like(df.corr(), dtype=bool))\n",
    "\n",
    "# Fijar el tamano de la figuta\n",
    "plt.subplots(figsize=(11, 9))\n",
    "\n",
    "# Generar colormap\n",
    "cmap = sns.diverging_palette(230, 20, as_cmap=True)\n",
    "\n",
    "# Dibujar la matriz\n",
    "sns.heatmap(df.corr(), mask=mask, cmap=cmap, center=0,\n",
    "            square=True, linewidths=.5, cbar_kws={\"shrink\": .5})"
   ]
  },
  {
   "cell_type": "code",
   "execution_count": 15,
   "id": "43822f0c",
   "metadata": {},
   "outputs": [],
   "source": [
    "# Se observa la mayor correlacion entre la edad y el numero de prestamos pedidos\n",
    "# Se observa correlacion entre el estado del prestamo, el porcentaje de ingresos y la tasa de interes"
   ]
  },
  {
   "cell_type": "code",
   "execution_count": 16,
   "id": "4b68c79d",
   "metadata": {},
   "outputs": [
    {
     "data": {
      "text/html": [
       "<div>\n",
       "<style scoped>\n",
       "    .dataframe tbody tr th:only-of-type {\n",
       "        vertical-align: middle;\n",
       "    }\n",
       "\n",
       "    .dataframe tbody tr th {\n",
       "        vertical-align: top;\n",
       "    }\n",
       "\n",
       "    .dataframe thead th {\n",
       "        text-align: right;\n",
       "    }\n",
       "</style>\n",
       "<table border=\"1\" class=\"dataframe\">\n",
       "  <thead>\n",
       "    <tr style=\"text-align: right;\">\n",
       "      <th>status</th>\n",
       "      <th>0</th>\n",
       "      <th>1</th>\n",
       "      <th>All</th>\n",
       "    </tr>\n",
       "    <tr>\n",
       "      <th>home</th>\n",
       "      <th></th>\n",
       "      <th></th>\n",
       "      <th></th>\n",
       "    </tr>\n",
       "  </thead>\n",
       "  <tbody>\n",
       "    <tr>\n",
       "      <th>MORTGAGE</th>\n",
       "      <td>10250</td>\n",
       "      <td>1483</td>\n",
       "      <td>11733</td>\n",
       "    </tr>\n",
       "    <tr>\n",
       "      <th>OTHER</th>\n",
       "      <td>66</td>\n",
       "      <td>27</td>\n",
       "      <td>93</td>\n",
       "    </tr>\n",
       "    <tr>\n",
       "      <th>OWN</th>\n",
       "      <td>2029</td>\n",
       "      <td>145</td>\n",
       "      <td>2174</td>\n",
       "    </tr>\n",
       "    <tr>\n",
       "      <th>RENT</th>\n",
       "      <td>9963</td>\n",
       "      <td>4532</td>\n",
       "      <td>14495</td>\n",
       "    </tr>\n",
       "    <tr>\n",
       "      <th>All</th>\n",
       "      <td>22308</td>\n",
       "      <td>6187</td>\n",
       "      <td>28495</td>\n",
       "    </tr>\n",
       "  </tbody>\n",
       "</table>\n",
       "</div>"
      ],
      "text/plain": [
       "status        0     1    All\n",
       "home                        \n",
       "MORTGAGE  10250  1483  11733\n",
       "OTHER        66    27     93\n",
       "OWN        2029   145   2174\n",
       "RENT       9963  4532  14495\n",
       "All       22308  6187  28495"
      ]
     },
     "execution_count": 16,
     "metadata": {},
     "output_type": "execute_result"
    }
   ],
   "source": [
    "# Ahora se va a ver la relacion de las variables categoricas con la objetivo\n",
    "# Relacion por tipo de casa\n",
    "pd.crosstab(index=df['home'], columns=df['status'], margins=True)"
   ]
  },
  {
   "cell_type": "code",
   "execution_count": 17,
   "id": "3777cec1",
   "metadata": {},
   "outputs": [
    {
     "data": {
      "text/html": [
       "<div>\n",
       "<style scoped>\n",
       "    .dataframe tbody tr th:only-of-type {\n",
       "        vertical-align: middle;\n",
       "    }\n",
       "\n",
       "    .dataframe tbody tr th {\n",
       "        vertical-align: top;\n",
       "    }\n",
       "\n",
       "    .dataframe thead th {\n",
       "        text-align: right;\n",
       "    }\n",
       "</style>\n",
       "<table border=\"1\" class=\"dataframe\">\n",
       "  <thead>\n",
       "    <tr style=\"text-align: right;\">\n",
       "      <th>status</th>\n",
       "      <th>0</th>\n",
       "      <th>1</th>\n",
       "      <th>All</th>\n",
       "    </tr>\n",
       "    <tr>\n",
       "      <th>loan_intent</th>\n",
       "      <th></th>\n",
       "      <th></th>\n",
       "      <th></th>\n",
       "    </tr>\n",
       "  </thead>\n",
       "  <tbody>\n",
       "    <tr>\n",
       "      <th>DEBTCONSOLIDATION</th>\n",
       "      <td>3253</td>\n",
       "      <td>1294</td>\n",
       "      <td>4547</td>\n",
       "    </tr>\n",
       "    <tr>\n",
       "      <th>EDUCATION</th>\n",
       "      <td>4701</td>\n",
       "      <td>967</td>\n",
       "      <td>5668</td>\n",
       "    </tr>\n",
       "    <tr>\n",
       "      <th>HOMEIMPROVEMENT</th>\n",
       "      <td>2367</td>\n",
       "      <td>820</td>\n",
       "      <td>3187</td>\n",
       "    </tr>\n",
       "    <tr>\n",
       "      <th>MEDICAL</th>\n",
       "      <td>3851</td>\n",
       "      <td>1418</td>\n",
       "      <td>5269</td>\n",
       "    </tr>\n",
       "    <tr>\n",
       "      <th>PERSONAL</th>\n",
       "      <td>3897</td>\n",
       "      <td>960</td>\n",
       "      <td>4857</td>\n",
       "    </tr>\n",
       "    <tr>\n",
       "      <th>VENTURE</th>\n",
       "      <td>4239</td>\n",
       "      <td>728</td>\n",
       "      <td>4967</td>\n",
       "    </tr>\n",
       "    <tr>\n",
       "      <th>All</th>\n",
       "      <td>22308</td>\n",
       "      <td>6187</td>\n",
       "      <td>28495</td>\n",
       "    </tr>\n",
       "  </tbody>\n",
       "</table>\n",
       "</div>"
      ],
      "text/plain": [
       "status                 0     1    All\n",
       "loan_intent                          \n",
       "DEBTCONSOLIDATION   3253  1294   4547\n",
       "EDUCATION           4701   967   5668\n",
       "HOMEIMPROVEMENT     2367   820   3187\n",
       "MEDICAL             3851  1418   5269\n",
       "PERSONAL            3897   960   4857\n",
       "VENTURE             4239   728   4967\n",
       "All                22308  6187  28495"
      ]
     },
     "execution_count": 17,
     "metadata": {},
     "output_type": "execute_result"
    }
   ],
   "source": [
    "# Relacion con intencion del prestamo\n",
    "pd.crosstab(index=df['loan_intent'], columns=df['status'], margins=True)"
   ]
  },
  {
   "cell_type": "code",
   "execution_count": 18,
   "id": "1dd120d4",
   "metadata": {},
   "outputs": [
    {
     "data": {
      "text/html": [
       "<div>\n",
       "<style scoped>\n",
       "    .dataframe tbody tr th:only-of-type {\n",
       "        vertical-align: middle;\n",
       "    }\n",
       "\n",
       "    .dataframe tbody tr th {\n",
       "        vertical-align: top;\n",
       "    }\n",
       "\n",
       "    .dataframe thead th {\n",
       "        text-align: right;\n",
       "    }\n",
       "</style>\n",
       "<table border=\"1\" class=\"dataframe\">\n",
       "  <thead>\n",
       "    <tr style=\"text-align: right;\">\n",
       "      <th>status</th>\n",
       "      <th>0</th>\n",
       "      <th>1</th>\n",
       "      <th>All</th>\n",
       "    </tr>\n",
       "    <tr>\n",
       "      <th>defaults</th>\n",
       "      <th></th>\n",
       "      <th></th>\n",
       "      <th></th>\n",
       "    </tr>\n",
       "  </thead>\n",
       "  <tbody>\n",
       "    <tr>\n",
       "      <th>N</th>\n",
       "      <td>19144</td>\n",
       "      <td>4262</td>\n",
       "      <td>23406</td>\n",
       "    </tr>\n",
       "    <tr>\n",
       "      <th>Y</th>\n",
       "      <td>3164</td>\n",
       "      <td>1925</td>\n",
       "      <td>5089</td>\n",
       "    </tr>\n",
       "    <tr>\n",
       "      <th>All</th>\n",
       "      <td>22308</td>\n",
       "      <td>6187</td>\n",
       "      <td>28495</td>\n",
       "    </tr>\n",
       "  </tbody>\n",
       "</table>\n",
       "</div>"
      ],
      "text/plain": [
       "status        0     1    All\n",
       "defaults                    \n",
       "N         19144  4262  23406\n",
       "Y          3164  1925   5089\n",
       "All       22308  6187  28495"
      ]
     },
     "execution_count": 18,
     "metadata": {},
     "output_type": "execute_result"
    }
   ],
   "source": [
    "# Relacion por historial de impagos\n",
    "pd.crosstab(index=df['defaults'], columns=df['status'], margins=True)"
   ]
  },
  {
   "cell_type": "code",
   "execution_count": 19,
   "id": "b3939408",
   "metadata": {},
   "outputs": [
    {
     "name": "stdout",
     "output_type": "stream",
     "text": [
      "{'RENT': 0, 'OTHER': 1, 'OWN': 2, 'MORTGAGE': 3}\n",
      "{'MEDICAL': 0, 'EDUCATION': 1, 'PERSONAL': 2, 'VENTURE': 3, 'DEBTCONSOLIDATION': 4, 'HOMEIMPROVEMENT': 5}\n",
      "{'F': 0, 'D': 1, 'A': 2, 'E': 3, 'G': 4, 'B': 5, 'C': 6}\n",
      "{'Y': 0, 'N': 1}\n"
     ]
    },
    {
     "data": {
      "text/html": [
       "<div>\n",
       "<style scoped>\n",
       "    .dataframe tbody tr th:only-of-type {\n",
       "        vertical-align: middle;\n",
       "    }\n",
       "\n",
       "    .dataframe tbody tr th {\n",
       "        vertical-align: top;\n",
       "    }\n",
       "\n",
       "    .dataframe thead th {\n",
       "        text-align: right;\n",
       "    }\n",
       "</style>\n",
       "<table border=\"1\" class=\"dataframe\">\n",
       "  <thead>\n",
       "    <tr style=\"text-align: right;\">\n",
       "      <th></th>\n",
       "      <th>age</th>\n",
       "      <th>income</th>\n",
       "      <th>home</th>\n",
       "      <th>job</th>\n",
       "      <th>loan_intent</th>\n",
       "      <th>loan_grade</th>\n",
       "      <th>loan_amnt</th>\n",
       "      <th>int_rate</th>\n",
       "      <th>status</th>\n",
       "      <th>perc_income</th>\n",
       "      <th>defaults</th>\n",
       "      <th>cred_hist</th>\n",
       "    </tr>\n",
       "  </thead>\n",
       "  <tbody>\n",
       "    <tr>\n",
       "      <th>1</th>\n",
       "      <td>21</td>\n",
       "      <td>9600</td>\n",
       "      <td>2</td>\n",
       "      <td>5.0</td>\n",
       "      <td>1</td>\n",
       "      <td>5</td>\n",
       "      <td>1000</td>\n",
       "      <td>11.14</td>\n",
       "      <td>0</td>\n",
       "      <td>0.10</td>\n",
       "      <td>1</td>\n",
       "      <td>2</td>\n",
       "    </tr>\n",
       "    <tr>\n",
       "      <th>2</th>\n",
       "      <td>25</td>\n",
       "      <td>9600</td>\n",
       "      <td>3</td>\n",
       "      <td>1.0</td>\n",
       "      <td>0</td>\n",
       "      <td>6</td>\n",
       "      <td>5500</td>\n",
       "      <td>12.87</td>\n",
       "      <td>1</td>\n",
       "      <td>0.57</td>\n",
       "      <td>1</td>\n",
       "      <td>3</td>\n",
       "    </tr>\n",
       "    <tr>\n",
       "      <th>3</th>\n",
       "      <td>23</td>\n",
       "      <td>65500</td>\n",
       "      <td>0</td>\n",
       "      <td>4.0</td>\n",
       "      <td>0</td>\n",
       "      <td>6</td>\n",
       "      <td>35000</td>\n",
       "      <td>15.23</td>\n",
       "      <td>1</td>\n",
       "      <td>0.53</td>\n",
       "      <td>1</td>\n",
       "      <td>2</td>\n",
       "    </tr>\n",
       "    <tr>\n",
       "      <th>4</th>\n",
       "      <td>24</td>\n",
       "      <td>54400</td>\n",
       "      <td>0</td>\n",
       "      <td>8.0</td>\n",
       "      <td>0</td>\n",
       "      <td>6</td>\n",
       "      <td>35000</td>\n",
       "      <td>14.27</td>\n",
       "      <td>1</td>\n",
       "      <td>0.55</td>\n",
       "      <td>0</td>\n",
       "      <td>4</td>\n",
       "    </tr>\n",
       "    <tr>\n",
       "      <th>5</th>\n",
       "      <td>21</td>\n",
       "      <td>9900</td>\n",
       "      <td>2</td>\n",
       "      <td>2.0</td>\n",
       "      <td>3</td>\n",
       "      <td>2</td>\n",
       "      <td>2500</td>\n",
       "      <td>7.14</td>\n",
       "      <td>1</td>\n",
       "      <td>0.25</td>\n",
       "      <td>1</td>\n",
       "      <td>2</td>\n",
       "    </tr>\n",
       "  </tbody>\n",
       "</table>\n",
       "</div>"
      ],
      "text/plain": [
       "   age  income  home  job  loan_intent  loan_grade  loan_amnt  int_rate  \\\n",
       "1   21    9600     2  5.0            1           5       1000     11.14   \n",
       "2   25    9600     3  1.0            0           6       5500     12.87   \n",
       "3   23   65500     0  4.0            0           6      35000     15.23   \n",
       "4   24   54400     0  8.0            0           6      35000     14.27   \n",
       "5   21    9900     2  2.0            3           2       2500      7.14   \n",
       "\n",
       "   status  perc_income  defaults  cred_hist  \n",
       "1       0         0.10         1          2  \n",
       "2       1         0.57         1          3  \n",
       "3       1         0.53         1          2  \n",
       "4       1         0.55         0          4  \n",
       "5       1         0.25         1          2  "
      ]
     },
     "execution_count": 19,
     "metadata": {},
     "output_type": "execute_result"
    }
   ],
   "source": [
    "# Ahora se van a crear diccionarios para cada una de las variables numericas\n",
    "home = list(set(df.home))\n",
    "dict_home = { home[i] : i for i in range(0, len(home) ) }\n",
    "print(dict_home)\n",
    "\n",
    "loan_intent = list(set(df.loan_intent))\n",
    "dict_loan_intent = { loan_intent[i] : i for i in range(0, len(loan_intent) ) }\n",
    "print(dict_loan_intent)\n",
    "\n",
    "loan_grade = list(set(df.loan_grade))\n",
    "dict_loan_grade = { loan_grade[i] : i for i in range(0, len(loan_grade) ) }\n",
    "print(dict_loan_grade)\n",
    "\n",
    "defaults = list(set(df.defaults))\n",
    "dict_defaults = { defaults[i] : i for i in range(0, len(defaults) ) }\n",
    "print(dict_defaults)\n",
    "\n",
    "df['home'] = df['home'].map(dict_home) \n",
    "df['defaults'] = df['defaults'].map(dict_defaults) \n",
    "df['loan_intent'] = df['loan_intent'].map(dict_loan_intent) \n",
    "df['loan_grade'] = df['loan_grade'].map(dict_loan_grade) \n",
    "df.head(5)\n",
    "\n"
   ]
  },
  {
   "cell_type": "code",
   "execution_count": 22,
   "id": "78fd8c9a",
   "metadata": {},
   "outputs": [],
   "source": [
    "from sklearn.ensemble import RandomForestClassifier\n",
    "from sklearn.metrics import accuracy_score\n",
    "from sklearn.metrics import confusion_matrix\n",
    "from sklearn.metrics import plot_confusion_matrix\n",
    "from sklearn.metrics import classification_report\n",
    "from sklearn.preprocessing import OneHotEncoder\n",
    "from sklearn.model_selection import train_test_split\n",
    "from sklearn.model_selection import ParameterGrid\n",
    "\n",
    "# Se importa la funcion que separa el data set\n",
    "from sklearn.model_selection import train_test_split\n",
    "\n",
    "X=df.drop(\"status\", axis=1)\n",
    "y=df['status']  \n",
    "\n",
    "X_train, X_test, y_train, y_test = train_test_split(X, y, test_size=0.3) # 70% training y 30% test"
   ]
  },
  {
   "cell_type": "code",
   "execution_count": 23,
   "id": "74f8d444",
   "metadata": {},
   "outputs": [
    {
     "name": "stdout",
     "output_type": "stream",
     "text": [
      "Modelo: {'criterion': 'gini', 'max_depth': None, 'max_features': 5, 'n_estimators': 150} ✓\n",
      "Modelo: {'criterion': 'gini', 'max_depth': None, 'max_features': 7, 'n_estimators': 150} ✓\n",
      "Modelo: {'criterion': 'gini', 'max_depth': None, 'max_features': 9, 'n_estimators': 150} ✓\n",
      "Modelo: {'criterion': 'gini', 'max_depth': 3, 'max_features': 5, 'n_estimators': 150} ✓\n",
      "Modelo: {'criterion': 'gini', 'max_depth': 3, 'max_features': 7, 'n_estimators': 150} ✓\n",
      "Modelo: {'criterion': 'gini', 'max_depth': 3, 'max_features': 9, 'n_estimators': 150} ✓\n",
      "Modelo: {'criterion': 'gini', 'max_depth': 10, 'max_features': 5, 'n_estimators': 150} ✓\n",
      "Modelo: {'criterion': 'gini', 'max_depth': 10, 'max_features': 7, 'n_estimators': 150} ✓\n",
      "Modelo: {'criterion': 'gini', 'max_depth': 10, 'max_features': 9, 'n_estimators': 150} ✓\n",
      "Modelo: {'criterion': 'gini', 'max_depth': 20, 'max_features': 5, 'n_estimators': 150} ✓\n",
      "Modelo: {'criterion': 'gini', 'max_depth': 20, 'max_features': 7, 'n_estimators': 150} ✓\n",
      "Modelo: {'criterion': 'gini', 'max_depth': 20, 'max_features': 9, 'n_estimators': 150} ✓\n",
      "Modelo: {'criterion': 'entropy', 'max_depth': None, 'max_features': 5, 'n_estimators': 150} ✓\n",
      "Modelo: {'criterion': 'entropy', 'max_depth': None, 'max_features': 7, 'n_estimators': 150} ✓\n",
      "Modelo: {'criterion': 'entropy', 'max_depth': None, 'max_features': 9, 'n_estimators': 150} ✓\n",
      "Modelo: {'criterion': 'entropy', 'max_depth': 3, 'max_features': 5, 'n_estimators': 150} ✓\n",
      "Modelo: {'criterion': 'entropy', 'max_depth': 3, 'max_features': 7, 'n_estimators': 150} ✓\n",
      "Modelo: {'criterion': 'entropy', 'max_depth': 3, 'max_features': 9, 'n_estimators': 150} ✓\n",
      "Modelo: {'criterion': 'entropy', 'max_depth': 10, 'max_features': 5, 'n_estimators': 150} ✓\n",
      "Modelo: {'criterion': 'entropy', 'max_depth': 10, 'max_features': 7, 'n_estimators': 150} ✓\n",
      "Modelo: {'criterion': 'entropy', 'max_depth': 10, 'max_features': 9, 'n_estimators': 150} ✓\n",
      "Modelo: {'criterion': 'entropy', 'max_depth': 20, 'max_features': 5, 'n_estimators': 150} ✓\n",
      "Modelo: {'criterion': 'entropy', 'max_depth': 20, 'max_features': 7, 'n_estimators': 150} ✓\n",
      "Modelo: {'criterion': 'entropy', 'max_depth': 20, 'max_features': 9, 'n_estimators': 150} ✓\n"
     ]
    },
    {
     "data": {
      "text/html": [
       "<div>\n",
       "<style scoped>\n",
       "    .dataframe tbody tr th:only-of-type {\n",
       "        vertical-align: middle;\n",
       "    }\n",
       "\n",
       "    .dataframe tbody tr th {\n",
       "        vertical-align: top;\n",
       "    }\n",
       "\n",
       "    .dataframe thead th {\n",
       "        text-align: right;\n",
       "    }\n",
       "</style>\n",
       "<table border=\"1\" class=\"dataframe\">\n",
       "  <thead>\n",
       "    <tr style=\"text-align: right;\">\n",
       "      <th></th>\n",
       "      <th>oob_accuracy</th>\n",
       "      <th>criterion</th>\n",
       "      <th>max_depth</th>\n",
       "      <th>max_features</th>\n",
       "      <th>n_estimators</th>\n",
       "    </tr>\n",
       "  </thead>\n",
       "  <tbody>\n",
       "    <tr>\n",
       "      <th>13</th>\n",
       "      <td>0.935025</td>\n",
       "      <td>entropy</td>\n",
       "      <td>NaN</td>\n",
       "      <td>7</td>\n",
       "      <td>150</td>\n",
       "    </tr>\n",
       "    <tr>\n",
       "      <th>12</th>\n",
       "      <td>0.934423</td>\n",
       "      <td>entropy</td>\n",
       "      <td>NaN</td>\n",
       "      <td>5</td>\n",
       "      <td>150</td>\n",
       "    </tr>\n",
       "    <tr>\n",
       "      <th>21</th>\n",
       "      <td>0.934122</td>\n",
       "      <td>entropy</td>\n",
       "      <td>20.0</td>\n",
       "      <td>5</td>\n",
       "      <td>150</td>\n",
       "    </tr>\n",
       "    <tr>\n",
       "      <th>1</th>\n",
       "      <td>0.934072</td>\n",
       "      <td>gini</td>\n",
       "      <td>NaN</td>\n",
       "      <td>7</td>\n",
       "      <td>150</td>\n",
       "    </tr>\n",
       "  </tbody>\n",
       "</table>\n",
       "</div>"
      ],
      "text/plain": [
       "    oob_accuracy criterion  max_depth  max_features  n_estimators\n",
       "13      0.935025   entropy        NaN             7           150\n",
       "12      0.934423   entropy        NaN             5           150\n",
       "21      0.934122   entropy       20.0             5           150\n",
       "1       0.934072      gini        NaN             7           150"
      ]
     },
     "execution_count": 23,
     "metadata": {},
     "output_type": "execute_result"
    }
   ],
   "source": [
    "# Grid de hiperparámetros evaluados\n",
    "param_grid = ParameterGrid(\n",
    "                {'n_estimators': [150],\n",
    "                 'max_features': [5, 7, 9],\n",
    "                 'max_depth'   : [None, 3, 10, 20],\n",
    "                 'criterion'   : ['gini', 'entropy']\n",
    "                }\n",
    "            )\n",
    "\n",
    "# Loop para ajustar un modelo con cada combinación de hiperparámetros\n",
    "resultados = {'params': [], 'oob_accuracy': []}\n",
    "\n",
    "for params in param_grid:\n",
    "    \n",
    "    modelo = RandomForestClassifier(\n",
    "                oob_score    = True,\n",
    "                n_jobs       = -1,\n",
    "                random_state = 123,\n",
    "                ** params\n",
    "             )\n",
    "    \n",
    "    modelo.fit(X_train, y_train)\n",
    "    \n",
    "    resultados['params'].append(params)\n",
    "    resultados['oob_accuracy'].append(modelo.oob_score_)\n",
    "    print(f\"Modelo: {params} \\u2713\")\n",
    "\n",
    "# Resultados\n",
    "# ==============================================================================\n",
    "resultados = pd.DataFrame(resultados)\n",
    "resultados = pd.concat([resultados, resultados['params'].apply(pd.Series)], axis=1)\n",
    "resultados = resultados.sort_values('oob_accuracy', ascending=False)\n",
    "resultados = resultados.drop(columns = 'params')\n",
    "resultados.head(4)\n"
   ]
  },
  {
   "cell_type": "code",
   "execution_count": 24,
   "id": "1da0d8cb",
   "metadata": {},
   "outputs": [
    {
     "name": "stdout",
     "output_type": "stream",
     "text": [
      "--------------------------------------------------\n",
      "Mejores hiperparámetros encontrados (oob-accuracy)\n",
      "--------------------------------------------------\n",
      "0.9350245663290886 : 0.9350245663290886 accuracy\n"
     ]
    }
   ],
   "source": [
    "# Mejores hiperparámetros por out-of-bag error\n",
    "# ==============================================================================\n",
    "print(\"--------------------------------------------------\")\n",
    "print(\"Mejores hiperparámetros encontrados (oob-accuracy)\")\n",
    "print(\"--------------------------------------------------\")\n",
    "print(resultados.iloc[0,0], \":\", resultados.iloc[0,:]['oob_accuracy'], \"accuracy\")"
   ]
  },
  {
   "cell_type": "code",
   "execution_count": 25,
   "id": "729cd467",
   "metadata": {},
   "outputs": [
    {
     "data": {
      "text/plain": [
       "RandomForestClassifier(max_features=5, n_estimators=150)"
      ]
     },
     "execution_count": 25,
     "metadata": {},
     "output_type": "execute_result"
    }
   ],
   "source": [
    "# Se entrena el modelo\n",
    "modelo_final = RandomForestClassifier(criterion = \"gini\", max_features = 5, n_estimators = 150)\n",
    "modelo_final.fit(X_train, y_train)"
   ]
  },
  {
   "cell_type": "code",
   "execution_count": 27,
   "id": "f64dc2f2",
   "metadata": {},
   "outputs": [
    {
     "name": "stdout",
     "output_type": "stream",
     "text": [
      "Precision: 0.9341443443677623\n",
      "              precision    recall  f1-score   support\n",
      "\n",
      "           0       0.93      0.99      0.96      6690\n",
      "           1       0.97      0.72      0.83      1859\n",
      "\n",
      "    accuracy                           0.93      8549\n",
      "   macro avg       0.95      0.86      0.89      8549\n",
      "weighted avg       0.94      0.93      0.93      8549\n",
      "\n"
     ]
    }
   ],
   "source": [
    "# Precision del modelo\n",
    "\n",
    "y_pred = modelo_final.predict(X_test)\n",
    "\n",
    "print(\n",
    "    classification_report(\n",
    "        y_true = y_test,\n",
    "        y_pred = y_pred\n",
    "    )\n",
    ")"
   ]
  },
  {
   "cell_type": "code",
   "execution_count": 28,
   "id": "8f71951c",
   "metadata": {},
   "outputs": [
    {
     "name": "stdout",
     "output_type": "stream",
     "text": [
      "Matriz de confusión\n",
      "-------------------\n",
      "[[6653   37]\n",
      " [ 526 1333]]\n",
      "\n",
      "El accuracy de test es: 93.41443443677623 %\n"
     ]
    }
   ],
   "source": [
    "mat_confusion = confusion_matrix(\n",
    "                    y_true    = y_test,\n",
    "                    y_pred    = y_pred\n",
    "                )\n",
    "\n",
    "accuracy = accuracy_score(\n",
    "            y_true    = y_test,\n",
    "            y_pred    = y_pred,\n",
    "            normalize = True\n",
    "           )\n",
    "\n",
    "print(\"Matriz de confusión\")\n",
    "print(\"-------------------\")\n",
    "print(mat_confusion)\n",
    "print(\"\")\n",
    "print(f\"El accuracy de test es: {100 * accuracy} %\")"
   ]
  },
  {
   "cell_type": "code",
   "execution_count": 31,
   "id": "0ba591bb",
   "metadata": {},
   "outputs": [],
   "source": [
    "# Se define la funcion para guardar objetos\n",
    "def save_object(filename, object):\n",
    "    with open(''+filename, 'wb') as file:\n",
    "        pickle.dump(object, file)"
   ]
  },
  {
   "cell_type": "code",
   "execution_count": 32,
   "id": "3b39dd18",
   "metadata": {},
   "outputs": [],
   "source": [
    "save_object('model.pkl', modelo_final)"
   ]
  }
 ],
 "metadata": {
  "kernelspec": {
   "display_name": "Python 3 (ipykernel)",
   "language": "python",
   "name": "python3"
  },
  "language_info": {
   "codemirror_mode": {
    "name": "ipython",
    "version": 3
   },
   "file_extension": ".py",
   "mimetype": "text/x-python",
   "name": "python",
   "nbconvert_exporter": "python",
   "pygments_lexer": "ipython3",
   "version": "3.10.0"
  }
 },
 "nbformat": 4,
 "nbformat_minor": 5
}
